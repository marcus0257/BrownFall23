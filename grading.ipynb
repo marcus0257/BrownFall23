{
 "cells": [
  {
   "cell_type": "code",
   "execution_count": 2,
   "id": "b2fd6780-b153-47a6-8ba4-649c5a2670a1",
   "metadata": {
    "tags": []
   },
   "outputs": [],
   "source": [
    "    '''\n",
    "    Parameters:\n",
    "    ------------\n",
    "    num_level1 : int\n",
    "      number of level 1 achievements earned\n",
    "    num_level2 : int\n",
    "      number of level 2 achievements earned\n",
    "    num_level3 : int\n",
    "      number of level 3 achievements earned\n",
    "\n",
    "    Returns:\n",
    "    --------\n",
    "    letter_grade : string\n",
    "      letter grade with possible modifier (+/-)\n",
    "    '''\n",
    "num_level1 : int\n",
    "num_level2 : int\n",
    "num_level3 : int"
   ]
  },
  {
   "cell_type": "code",
   "execution_count": 8,
   "id": "28477023-8ff5-4f8d-aa48-5f6864b973cc",
   "metadata": {
    "tags": []
   },
   "outputs": [],
   "source": [
    "def compute_grade(num_level1, num_level2, num_level3):\n",
    "    total_score = num_level1 + num_level2 + num_level3\n",
    "    average_score = total_score / 3\n",
    "\n",
    "    if average_score >= 15:\n",
    "        return 'A'\n",
    "    elif average_score >= 12:\n",
    "        return 'A-'\n",
    "    elif average_score >= 9:\n",
    "        return 'B-'\n",
    "    elif average_score >= 6:\n",
    "        return 'C-'\n",
    "    elif average_score >= 3:\n",
    "        return 'D'\n",
    "    else:\n",
    "        return 'F'"
   ]
  },
  {
   "cell_type": "code",
   "execution_count": 9,
   "id": "b1cc9ccf-d12d-45b9-8695-9f95e49d9d26",
   "metadata": {
    "tags": []
   },
   "outputs": [],
   "source": [
    "assert compute_grade(15,15,15)"
   ]
  },
  {
   "cell_type": "code",
   "execution_count": 10,
   "id": "54373df4-f0ce-45f2-a8e5-0a85907ce152",
   "metadata": {
    "tags": []
   },
   "outputs": [
    {
     "data": {
      "text/plain": [
       "'A'"
      ]
     },
     "execution_count": 10,
     "metadata": {},
     "output_type": "execute_result"
    }
   ],
   "source": [
    "compute_grade(15,15,15)"
   ]
  },
  {
   "cell_type": "code",
   "execution_count": null,
   "id": "d6e7ab59-b9af-453c-9e14-ea8cf5117c63",
   "metadata": {},
   "outputs": [],
   "source": []
  }
 ],
 "metadata": {
  "kernelspec": {
   "display_name": "Python 3 (ipykernel)",
   "language": "python",
   "name": "python3"
  },
  "language_info": {
   "codemirror_mode": {
    "name": "ipython",
    "version": 3
   },
   "file_extension": ".py",
   "mimetype": "text/x-python",
   "name": "python",
   "nbconvert_exporter": "python",
   "pygments_lexer": "ipython3",
   "version": "3.11.4"
  }
 },
 "nbformat": 4,
 "nbformat_minor": 5
}
